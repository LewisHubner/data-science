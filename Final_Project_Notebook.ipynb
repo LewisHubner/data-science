{
 "cells": [
  {
   "cell_type": "markdown",
   "id": "7aaa69b6",
   "metadata": {},
   "source": [
    "# Data Science Tools and Ecosystem"
   ]
  },
  {
   "cell_type": "markdown",
   "id": "39abd9a7",
   "metadata": {},
   "source": [
    "In this notebook, Data Science Tools and Ecosystem are summarized."
   ]
  },
  {
   "cell_type": "markdown",
   "id": "17e11e6d",
   "metadata": {},
   "source": [
    "## Languages used in Data Science\n",
    "\n",
    "Some of the popular languages that Data Scientists use are:\n",
    "- Python\n",
    "- R\n",
    "- SQL\n",
    "- Julia\n",
    "- Scala"
   ]
  },
  {
   "cell_type": "markdown",
   "id": "4917c40c",
   "metadata": {},
   "source": [
    "## Commonly used libraries by Data Scientists\n",
    "\n",
    "Some of the commonly used libraries include:\n",
    "- NumPy\n",
    "- Pandas\n",
    "- Matplotlib\n",
    "- Scikit-learn\n",
    "- TensorFlow"
   ]
  },
  {
   "cell_type": "markdown",
   "id": "dddc00a5",
   "metadata": {},
   "source": [
    "## Data Science Tools\n",
    "\n",
    "| Category         | Tool             |\n",
    "|------------------|------------------|\n",
    "| IDE              | Jupyter Notebook |\n",
    "| IDE              | RStudio          |\n",
    "| Big Data Tool    | Apache Spark     |\n",
    "| Cloud Platform   | Google Colab     |\n",
    "| Notebook Hosting | GitHub           |"
   ]
  },
  {
   "cell_type": "markdown",
   "id": "9eb172fd",
   "metadata": {},
   "source": [
    "### Examples of evaluating arithmetic expressions in Python\n",
    "\n",
    "Below are some examples of arithmetic operations in Python."
   ]
  },
  {
   "cell_type": "code",
   "execution_count": null,
   "id": "f8954db4",
   "metadata": {},
   "outputs": [],
   "source": [
    "# This is a simple arithmetic expression to multiply then add integers\n",
    "(3 * 4) + 5"
   ]
  },
  {
   "cell_type": "code",
   "execution_count": null,
   "id": "5645ff7f",
   "metadata": {},
   "outputs": [],
   "source": [
    "# This will convert 200 minutes to hours by dividing by 60\n",
    "200 / 60"
   ]
  },
  {
   "cell_type": "code",
   "execution_count": null,
   "id": "9ca9f0ae",
   "metadata": {},
   "outputs": [],
   "source": [
    "# Objectives:\n",
    "objectives = [\n",
    "    \"Understand tools of the data science ecosystem\",\n",
    "    \"Learn popular programming languages for data science\",\n",
    "    \"Practice arithmetic and code markdown in Jupyter\",\n",
    "    \"Convert minutes to hours using Python\"\n",
    "]\n",
    "objectives"
   ]
  },
  {
   "cell_type": "markdown",
   "id": "cfe8d52a",
   "metadata": {},
   "source": [
    "## Author\n",
    "\n",
    "Grey Julcapari"
   ]
  },
  {
   "cell_type": "markdown",
   "id": "dce07859",
   "metadata": {},
   "source": [
    "## GitHub Link\n",
    "\n",
    "[Click here to view my notebook on GitHub](https://github.com/TU_USUARIO/TU_REPOSITORIO)"
   ]
  }
 ],
 "metadata": {
  "language": "python"
 },
 "nbformat": 4,
 "nbformat_minor": 5
}
